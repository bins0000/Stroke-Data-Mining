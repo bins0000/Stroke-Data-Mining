{
 "cells": [
  {
   "cell_type": "code",
   "execution_count": 1,
   "id": "f05780ae-e326-4ac7-89ca-75aac39af7f1",
   "metadata": {},
   "outputs": [],
   "source": [
    "import numpy as np \n",
    "import pandas as pd \n",
    "import matplotlib.pyplot as plt \n",
    "import math\n",
    "from sklearn import metrics\n",
    "from sklearn.metrics import recall_score\n",
    "from sklearn.metrics import precision_score\n",
    "from sklearn.metrics import accuracy_score\n",
    "from sklearn.metrics import f1_score"
   ]
  },
  {
   "cell_type": "code",
   "execution_count": 2,
   "id": "c8898749-10ce-4fcf-af7e-b5fa3a4d1a57",
   "metadata": {},
   "outputs": [],
   "source": [
    "def eval_metrics(y_true, y_pred):\n",
    "\n",
    "    confusion_matrix = metrics.confusion_matrix(y_true, y_pred)\n",
    "    cm_display = metrics.ConfusionMatrixDisplay(confusion_matrix = confusion_matrix, display_labels = [False, True])\n",
    "    \n",
    "    prec = precision_score(y_true, y_pred, average='binary', pos_label='1')\n",
    "    f1 = f1_score(y_true, y_pred, average='binary', pos_label='1')\n",
    "    acc = accuracy_score(y_true, y_pred)\n",
    "    rec = recall_score(y_true, y_pred, average='binary', pos_label='1')\n",
    "    cm_display.plot()\n",
    "    plt.show()\n",
    "    \n",
    "    return prec, f1, acc, rec"
   ]
  },
  {
   "cell_type": "code",
   "execution_count": 3,
   "id": "eeb818b9-b149-43d7-94a8-bf25dd02fd7f",
   "metadata": {},
   "outputs": [],
   "source": [
    "import warnings\n",
    "warnings.filterwarnings('ignore')"
   ]
  },
  {
   "cell_type": "code",
   "execution_count": 4,
   "id": "eb5648a0-f683-4d65-b6b8-673029220403",
   "metadata": {},
   "outputs": [],
   "source": [
    "def pre_processing(df):\n",
    "\n",
    "    \"\"\" Pre-processing \"\"\"\n",
    "    df = df.drop(['id'], axis=1)\n",
    "    \n",
    "    df = df.dropna()\n",
    "    \n",
    "    #Convert int to categorical types\n",
    "    df['gender'] = df['gender'].astype('object')\n",
    "    df['hypertension'] = df['hypertension'].astype('object')\n",
    "    df['heart_disease'] = df['heart_disease'].astype('object')\n",
    "    df['ever_married'] = df['ever_married'].astype('object')\n",
    "    df['Residence_type'] = df['Residence_type'].astype('object')\n",
    "    df['smoking_status'] = df['smoking_status'].astype('object')\n",
    "    df['work_type'] = df['work_type'].astype('object')\n",
    "    df['stroke'] = df['stroke'].astype('object')\n",
    "\n",
    "    \n",
    "    #convert age to categorical\n",
    "    df['age'] = pd.cut(df.age,bins=[0,2,5,10,15,20,25,30,35,40,45,50,55,60,65,70,75,80,85])\n",
    "    df['bmi'] = pd.cut(df.bmi,bins=[10,18.5, 25, 30, 35, 40, 100], labels = ['underweight', 'healthy weight', 'overweight', \n",
    "                                                                              'obesity class 1', 'obesity class 2', 'obesity class 3'])\n",
    "    df['avg_glucose_level'] = pd.cut(df.avg_glucose_level, bins=[50, 80, 115, 150, 180, 215, 250, 280])\n",
    "    \n",
    "    df['age'] = df['age'].astype('object')\n",
    "    df['bmi'] = df['bmi'].astype('object')\n",
    "    df['avg_glucose_level'] = df['avg_glucose_level'].astype('object')\n",
    "    \n",
    "    \"\"\" partioning data into features and target \"\"\"\n",
    "    \n",
    "    df=df.astype(str)\n",
    "    \n",
    "    X = df.drop([df.columns[-1]], axis = 1)\n",
    "    \n",
    "    y = df[df.columns[-1]]\n",
    "    \n",
    "    \n",
    "    return X, y"
   ]
  },
  {
   "cell_type": "markdown",
   "id": "7d822b0d-b6e3-419b-a258-18d24494b27f",
   "metadata": {
    "tags": []
   },
   "source": [
    "# Constructing Naive Bayes Classification Models"
   ]
  },
  {
   "cell_type": "code",
   "execution_count": 5,
   "id": "b79b4610-799f-4b86-828a-7b03f5846424",
   "metadata": {},
   "outputs": [],
   "source": [
    "class  NaiveBayes:\n",
    "\n",
    "    \"\"\"\n",
    "        Bayes Theorem:\n",
    "                                        Likelihood * Class prior probability\n",
    "                Posterior Probability = -------------------------------------\n",
    "                                            Predictor prior probability\n",
    "\n",
    "                                         P(x|c) * p(c)\n",
    "                               P(c|x) = ------------------ \n",
    "                                              P(x)\n",
    "    \"\"\"\n",
    "\n",
    "    def __init__(self):\n",
    "\n",
    "        \"\"\"\n",
    "            Attributes:\n",
    "                likelihoods: Likelihood of each feature per class\n",
    "                class_priors: Prior probabilities of classes \n",
    "                pred_priors: Prior probabilities of features \n",
    "                features: All features of dataset\n",
    "\n",
    "        \"\"\"\n",
    "        self.features = list\n",
    "        self.likelihoods = {}\n",
    "        self.class_priors = {}\n",
    "        self.pred_priors = {}\n",
    "\n",
    "        self.X_train = np.array\n",
    "        self.y_train = np.array\n",
    "        self.train_size = int\n",
    "        self.num_feats = int\n",
    "\n",
    "    def fit(self, X, y):\n",
    "\n",
    "        self.features = list(X.columns)\n",
    "        self.X_train = X\n",
    "        self.y_train = y\n",
    "        self.train_size = X.shape[0]\n",
    "        self.num_feats = X.shape[1]\n",
    "\n",
    "        for feature in self.features:\n",
    "            self.likelihoods[feature] = {}\n",
    "            self.pred_priors[feature] = {}\n",
    "\n",
    "            for feat_val in np.unique(self.X_train[feature]):\n",
    "                self.pred_priors[feature].update({feat_val: 0})\n",
    "\n",
    "                for outcome in np.unique(self.y_train):\n",
    "                    # print(type(outcome))\n",
    "                    self.likelihoods[feature].update({feat_val+ '_' + outcome:0})\n",
    "                    self.class_priors.update({outcome: 0})\n",
    "\n",
    "        self._calc_class_prior()\n",
    "        self._calc_likelihoods()\n",
    "        self._calc_predictor_prior()\n",
    "\n",
    "    def _calc_class_prior(self):\n",
    "\n",
    "        \"\"\" P(c) - Prior Class Probability \"\"\"\n",
    "\n",
    "        for outcome in np.unique(self.y_train):\n",
    "            outcome_count = sum(self.y_train == outcome)\n",
    "            self.class_priors[outcome] = outcome_count / self.train_size\n",
    "\n",
    "    def _calc_likelihoods(self):\n",
    "\n",
    "        \"\"\" P(x|c) - Likelihood \"\"\"\n",
    "\n",
    "        for feature in self.features:\n",
    "\n",
    "            for outcome in np.unique(self.y_train):\n",
    "                outcome_count = sum(self.y_train == outcome)\n",
    "                feat_likelihood = self.X_train[feature][self.y_train[self.y_train == outcome].index.values.tolist()].value_counts().to_dict()\n",
    "\n",
    "                for feat_val, count in feat_likelihood.items():\n",
    "                    self.likelihoods[feature][feat_val + '_' + outcome] = count/outcome_count\n",
    "\n",
    "\n",
    "    def _calc_predictor_prior(self):\n",
    "\n",
    "        \"\"\" P(x) - Evidence \"\"\"\n",
    "\n",
    "        for feature in self.features:\n",
    "            feat_vals = self.X_train[feature].value_counts().to_dict()\n",
    "\n",
    "            for feat_val, count in feat_vals.items():\n",
    "                self.pred_priors[feature][feat_val] = count/self.train_size\n",
    "\n",
    "\n",
    "    def predict(self, X):\n",
    "\n",
    "        \"\"\" Calculates Posterior probability P(c|x) \"\"\"\n",
    "\n",
    "        results = []\n",
    "        X = np.array(X)\n",
    "\n",
    "        for query in X:\n",
    "            probs_outcome = {}\n",
    "            for outcome in np.unique(self.y_train):\n",
    "                prior = self.class_priors[outcome]\n",
    "                likelihood = 1\n",
    "                evidence = 1\n",
    "\n",
    "                for feat, feat_val in zip(self.features, query):\n",
    "                    likelihood *= self.likelihoods[feat][feat_val + '_' + outcome]\n",
    "                    evidence *= self.pred_priors[feat][feat_val]\n",
    "\n",
    "                posterior = (likelihood * prior) / (evidence)\n",
    "\n",
    "                probs_outcome[outcome] = posterior\n",
    "\n",
    "            result = max(probs_outcome, key = lambda x: probs_outcome[x])\n",
    "            results.append(result)\n",
    "\n",
    "        return np.array(results)\n",
    "\n"
   ]
  },
  {
   "cell_type": "code",
   "execution_count": 6,
   "id": "bcb0aa43-26cd-4a32-9e0f-a01d7c14947c",
   "metadata": {},
   "outputs": [
    {
     "name": "stdout",
     "output_type": "stream",
     "text": [
      "\n",
      "Stroke Dataset:\n"
     ]
    },
    {
     "data": {
      "image/png": "[encoded data removed]",
      "text/plain": [
       "<Figure size 432x288 with 2 Axes>"
      ]
     },
     "metadata": {
      "needs_background": "light"
     },
     "output_type": "display_data"
    },
    {
     "name": "stdout",
     "output_type": "stream",
     "text": [
      "Accuracy: 0.92544306376044\n",
      "Precision: 0.21033210332103322\n",
      "f-1 score: 0.23749999999999996\n",
      "recall: 0.2727272727272727\n",
      "Query 1:- [['Male' '(65, 70]' '0' '1' 'No' 'Private' 'Urban' '(215, 250]'\n",
      "  'obesity class 2' 'formerly smoked']] ---> ['0']\n",
      "Query 2:- [['Female' '(75, 80]' '1' '1' 'Yes' 'Govt_job' 'Urban' '(180, 215]'\n",
      "  'obesity class 1' 'smokes']] ---> ['1']\n"
     ]
    }
   ],
   "source": [
    "#Weather Dataset\n",
    "print(\"\\nStroke Dataset:\")\n",
    "\n",
    "df = pd.read_csv(\"healthcare-dataset-stroke-data.csv\")\n",
    "\n",
    "#Split fearures and target\n",
    "X,y  = pre_processing(df)\n",
    "\n",
    "nb_clf = NaiveBayes()\n",
    "nb_clf.fit(X, y)\n",
    "\n",
    "#Evaluate the model\n",
    "prec, f1, acc, rec = eval_metrics(y, nb_clf.predict(X))\n",
    "\n",
    "print(\"Accuracy: {}\".format(acc))\n",
    "print(\"Precision: {}\".format(prec))\n",
    "print(\"f-1 score: {}\".format(f1))\n",
    "print(\"recall: {}\".format(rec))\n",
    "\n",
    "#     print(X)\n",
    "#     print(y)\n",
    "\n",
    "#Query 1:\n",
    "query = np.array([['Male','(65, 70]', '0', '1', 'No', 'Private', 'Urban', '(215, 250]', 'obesity class 2', 'formerly smoked']])\n",
    "print(\"Query 1:- {} ---> {}\".format(query, nb_clf.predict(query)))\n",
    "\n",
    "#Query 2:\n",
    "query = np.array([['Female','(75, 80]', '1', '1', 'Yes', 'Govt_job', 'Urban', '(180, 215]', 'obesity class 1', 'smokes']])\n",
    "print(\"Query 2:- {} ---> {}\".format(query, nb_clf.predict(query)))"
   ]
  },
  {
   "cell_type": "code",
   "execution_count": null,
   "id": "d992a2b8-89d0-49c4-bbaf-b30ced5bc5bb",
   "metadata": {},
   "outputs": [
    {
     "data": {
      "text/html": [
       "<div>\n",
       "<style scoped>\n",
       "    .dataframe tbody tr th:only-of-type {\n",
       "        vertical-align: middle;\n",
       "    }\n",
       "\n",
       "    .dataframe tbody tr th {\n",
       "        vertical-align: top;\n",
       "    }\n",
       "\n",
       "    .dataframe thead th {\n",
       "        text-align: right;\n",
       "    }\n",
       "</style>\n",
       "<table border=\"1\" class=\"dataframe\">\n",
       "  <thead>\n",
       "    <tr style=\"text-align: right;\">\n",
       "      <th></th>\n",
       "      <th>gender</th>\n",
       "      <th>age</th>\n",
       "      <th>hypertension</th>\n",
       "      <th>heart_disease</th>\n",
       "      <th>ever_married</th>\n",
       "      <th>work_type</th>\n",
       "      <th>Residence_type</th>\n",
       "      <th>avg_glucose_level</th>\n",
       "      <th>bmi</th>\n",
       "      <th>smoking_status</th>\n",
       "    </tr>\n",
       "  </thead>\n",
       "  <tbody>\n",
       "    <tr>\n",
       "      <th>0</th>\n",
       "      <td>Male</td>\n",
       "      <td>(65, 70]</td>\n",
       "      <td>0</td>\n",
       "      <td>1</td>\n",
       "      <td>Yes</td>\n",
       "      <td>Private</td>\n",
       "      <td>Urban</td>\n",
       "      <td>(215, 250]</td>\n",
       "      <td>obesity class 2</td>\n",
       "      <td>formerly smoked</td>\n",
       "    </tr>\n",
       "    <tr>\n",
       "      <th>2</th>\n",
       "      <td>Male</td>\n",
       "      <td>(75, 80]</td>\n",
       "      <td>0</td>\n",
       "      <td>1</td>\n",
       "      <td>Yes</td>\n",
       "      <td>Private</td>\n",
       "      <td>Rural</td>\n",
       "      <td>(80, 115]</td>\n",
       "      <td>obesity class 1</td>\n",
       "      <td>never smoked</td>\n",
       "    </tr>\n",
       "    <tr>\n",
       "      <th>3</th>\n",
       "      <td>Female</td>\n",
       "      <td>(45, 50]</td>\n",
       "      <td>0</td>\n",
       "      <td>0</td>\n",
       "      <td>Yes</td>\n",
       "      <td>Private</td>\n",
       "      <td>Urban</td>\n",
       "      <td>(150, 180]</td>\n",
       "      <td>obesity class 1</td>\n",
       "      <td>smokes</td>\n",
       "    </tr>\n",
       "    <tr>\n",
       "      <th>4</th>\n",
       "      <td>Female</td>\n",
       "      <td>(75, 80]</td>\n",
       "      <td>1</td>\n",
       "      <td>0</td>\n",
       "      <td>Yes</td>\n",
       "      <td>Self-employed</td>\n",
       "      <td>Rural</td>\n",
       "      <td>(150, 180]</td>\n",
       "      <td>healthy weight</td>\n",
       "      <td>never smoked</td>\n",
       "    </tr>\n",
       "    <tr>\n",
       "      <th>5</th>\n",
       "      <td>Male</td>\n",
       "      <td>(80, 85]</td>\n",
       "      <td>0</td>\n",
       "      <td>0</td>\n",
       "      <td>Yes</td>\n",
       "      <td>Private</td>\n",
       "      <td>Urban</td>\n",
       "      <td>(180, 215]</td>\n",
       "      <td>overweight</td>\n",
       "      <td>formerly smoked</td>\n",
       "    </tr>\n",
       "    <tr>\n",
       "      <th>...</th>\n",
       "      <td>...</td>\n",
       "      <td>...</td>\n",
       "      <td>...</td>\n",
       "      <td>...</td>\n",
       "      <td>...</td>\n",
       "      <td>...</td>\n",
       "      <td>...</td>\n",
       "      <td>...</td>\n",
       "      <td>...</td>\n",
       "      <td>...</td>\n",
       "    </tr>\n",
       "    <tr>\n",
       "      <th>5104</th>\n",
       "      <td>Female</td>\n",
       "      <td>(10, 15]</td>\n",
       "      <td>0</td>\n",
       "      <td>0</td>\n",
       "      <td>No</td>\n",
       "      <td>children</td>\n",
       "      <td>Rural</td>\n",
       "      <td>(80, 115]</td>\n",
       "      <td>healthy weight</td>\n",
       "      <td>Unknown</td>\n",
       "    </tr>\n",
       "    <tr>\n",
       "      <th>5106</th>\n",
       "      <td>Female</td>\n",
       "      <td>(80, 85]</td>\n",
       "      <td>0</td>\n",
       "      <td>0</td>\n",
       "      <td>Yes</td>\n",
       "      <td>Self-employed</td>\n",
       "      <td>Urban</td>\n",
       "      <td>(115, 150]</td>\n",
       "      <td>obesity class 2</td>\n",
       "      <td>never smoked</td>\n",
       "    </tr>\n",
       "    <tr>\n",
       "      <th>5107</th>\n",
       "      <td>Female</td>\n",
       "      <td>(30, 35]</td>\n",
       "      <td>0</td>\n",
       "      <td>0</td>\n",
       "      <td>Yes</td>\n",
       "      <td>Self-employed</td>\n",
       "      <td>Rural</td>\n",
       "      <td>(80, 115]</td>\n",
       "      <td>obesity class 1</td>\n",
       "      <td>never smoked</td>\n",
       "    </tr>\n",
       "    <tr>\n",
       "      <th>5108</th>\n",
       "      <td>Male</td>\n",
       "      <td>(50, 55]</td>\n",
       "      <td>0</td>\n",
       "      <td>0</td>\n",
       "      <td>Yes</td>\n",
       "      <td>Private</td>\n",
       "      <td>Rural</td>\n",
       "      <td>(150, 180]</td>\n",
       "      <td>overweight</td>\n",
       "      <td>formerly smoked</td>\n",
       "    </tr>\n",
       "    <tr>\n",
       "      <th>5109</th>\n",
       "      <td>Female</td>\n",
       "      <td>(40, 45]</td>\n",
       "      <td>0</td>\n",
       "      <td>0</td>\n",
       "      <td>Yes</td>\n",
       "      <td>Govt_job</td>\n",
       "      <td>Urban</td>\n",
       "      <td>(80, 115]</td>\n",
       "      <td>overweight</td>\n",
       "      <td>Unknown</td>\n",
       "    </tr>\n",
       "  </tbody>\n",
       "</table>\n",
       "<p>4909 rows × 10 columns</p>\n",
       "</div>"
      ],
      "text/plain": [
       "      gender       age hypertension heart_disease ever_married      work_type  \\\n",
       "0       Male  (65, 70]            0             1          Yes        Private   \n",
       "2       Male  (75, 80]            0             1          Yes        Private   \n",
       "3     Female  (45, 50]            0             0          Yes        Private   \n",
       "4     Female  (75, 80]            1             0          Yes  Self-employed   \n",
       "5       Male  (80, 85]            0             0          Yes        Private   \n",
       "...      ...       ...          ...           ...          ...            ...   \n",
       "5104  Female  (10, 15]            0             0           No       children   \n",
       "5106  Female  (80, 85]            0             0          Yes  Self-employed   \n",
       "5107  Female  (30, 35]            0             0          Yes  Self-employed   \n",
       "5108    Male  (50, 55]            0             0          Yes        Private   \n",
       "5109  Female  (40, 45]            0             0          Yes       Govt_job   \n",
       "\n",
       "     Residence_type avg_glucose_level              bmi   smoking_status  \n",
       "0             Urban        (215, 250]  obesity class 2  formerly smoked  \n",
       "2             Rural         (80, 115]  obesity class 1     never smoked  \n",
       "3             Urban        (150, 180]  obesity class 1           smokes  \n",
       "4             Rural        (150, 180]   healthy weight     never smoked  \n",
       "5             Urban        (180, 215]       overweight  formerly smoked  \n",
       "...             ...               ...              ...              ...  \n",
       "5104          Rural         (80, 115]   healthy weight          Unknown  \n",
       "5106          Urban        (115, 150]  obesity class 2     never smoked  \n",
       "5107          Rural         (80, 115]  obesity class 1     never smoked  \n",
       "5108          Rural        (150, 180]       overweight  formerly smoked  \n",
       "5109          Urban         (80, 115]       overweight          Unknown  \n",
       "\n",
       "[4909 rows x 10 columns]"
      ]
     },
     "execution_count": 7,
     "metadata": {},
     "output_type": "execute_result"
    }
   ],
   "source": [
    "X"
   ]
  },
  {
   "cell_type": "markdown",
   "id": "74b967b0-8ba2-4594-9e36-2f6939991df8",
   "metadata": {},
   "source": [
    "# GUI for Bayes Classifier"
   ]
  },
  {
   "cell_type": "code",
   "execution_count": 9,
   "id": "0f64c468-1a76-4692-9db5-5c74b5ed3059",
   "metadata": {},
   "outputs": [],
   "source": [
    "# import modules\n",
    "from tkinter import *\n",
    " \n",
    "# user defined function\n",
    "def predict_stroke():\n",
    "    try:\n",
    "        \n",
    "        x1 = int(gender.get())\n",
    "        x2 = float(age.get())\n",
    "        x3 = int(hypertension.get())\n",
    "        x4 = int(heart_disease.get())\n",
    "        x5 = int(ever_married.get())\n",
    "        x6 = int(work_type.get())\n",
    "        x7 = int(Residence_type.get())\n",
    "        x8 = float(avg_glucose_level.get())\n",
    "        x9 = float(bmi.get())\n",
    "        x10 = int(smoking_status.get())\n",
    "        \n",
    "        \n",
    "        #new_X = np.array([gender.get(), age.get(), hypertension.get(), heart_disease.get(), ever_married.get(), \n",
    "        #                  work_type.get(), Residence_type.get(), avg_glucose_level.get(), bmi.get(), smoking_status.get()])\n",
    "        new_X = np.array([[x1, x2, x3, x4, x5, x6, x7, x8, x9, x10]])\n",
    "\n",
    "        new_pred = nb_clf.predict(new_X)\n",
    "        \n",
    "        stroke_class = int(new_pred[0])\n",
    "        \n",
    "        #print(stroke_class)\n",
    "        #print(new_X)\n",
    "        if stroke_class == 1:\n",
    "            result.set(\"The patient IS at risk of having a stroke\")\n",
    "            \n",
    "        elif stroke_class == 0:\n",
    "            result.set(\"The patient is NOT at risk of having a stroke\")\n",
    "\n",
    "    except:\n",
    "        result.set(\"something went wrong\")\n",
    "\n",
    "        \n",
    "# object of tkinter\n",
    "# with background set to light grey\n",
    "master = Tk()\n",
    "master.configure(bg='white')\n",
    "master.title(\"Stroke Predictor Application\")\n",
    " \n",
    "# Variable Classes in tkinter\n",
    "result = StringVar();\n",
    " \n",
    "# App introduction\n",
    "Label(master, text=\"This application allows you to check a patient's risk of stroke based on the following parameters.\" , bg = \"white\", font=(\"Arial\", 12)).grid(row=1, sticky=W)\n",
    "Label(master, text=\"Please enter your information in the following format, and hit the predict button. \" , bg = \"white\", font=(\"Arial\", 12)).grid(row=2, sticky=W)\n",
    "Label(master, text=\"This prediction makes use of Random forest, which got 94.9% accuracy after evaluating 3 models.\" , bg = \"white\", font=(\"Arial\", 12)).grid(row=3, sticky=W)\n",
    "Label(master, text=\"\" , bg = \"white\", font=10).grid(row=4, sticky=W)\n",
    "Label(master, text=\"Input each one of the patient's information in the boxes below:\" , bg = \"white\", font=(\"Arial\", 12)).grid(row=5, sticky=W)\n",
    "    \n",
    "# Creating label for each information\n",
    "# name using widget Label\n",
    "Label(master, text=\"Enter gender (0: Male, 1: Female, 2: Others): \" , bg = \"white\", font=(\"Arial\", 12)).grid(row=6, sticky=W)\n",
    "Label(master, text=\"Enter age (year-old): \" , bg = \"white\", font=(\"Arial\", 12)).grid(row=7, sticky=W)\n",
    "Label(master, text=\"Enter hypertension (0: patient has no hypertension, 1: patient has hypertension): \" , bg = \"white\", font=(\"Arial\", 12)).grid(row=8, sticky=W)\n",
    "Label(master, text=\"Enter heart_disease (0: patient has no heart disease, 1: patient has heart disease): \" , bg = \"white\", font=(\"Arial\", 12)).grid(row=9, sticky=W)\n",
    "Label(master, text=\"Enter ever_married (0: Yes, 1: No): \" , bg = \"white\", font=(\"Arial\", 12)).grid(row=10, sticky=W)\n",
    "Label(master, text=\"Enter work_type (0: Private, 1: Self-employed, 2: Govt_jov, 3: Children, 4: Never_worked): \" , bg = \"white\", font=(\"Arial\", 12)).grid(row=11, sticky=W)\n",
    "Label(master, text=\"Enter Residence_type (0: Urban, 1: Rural): \" , bg = \"white\", font=(\"Arial\", 12)).grid(row=12, sticky=W)\n",
    "Label(master, text=\"Enter average glucose level in blood: \" , bg = \"white\", font=(\"Arial\", 12)).grid(row=13, sticky=W)\n",
    "Label(master, text=\"Enter body mass index, BMI: \" , bg = \"white\", font=(\"Arial\", 12)).grid(row=14, sticky=W)\n",
    "Label(master, text=\"Enter smoking_status (0: formerly smoked, 1: never smoked, 2: smokes, 3: Unknown): \" , bg = \"white\", font=(\"Arial\", 12)).grid(row=15, sticky=W)\n",
    "\n",
    "# label for the result\n",
    "Label(master, text=\" \", bg = \"white\", font=(\"Arial\", 12)).grid(row=16, sticky=W)\n",
    "Label(master, text=\"Result :\", bg = \"white\", font=(\"Arial\", 17)).grid(row=17, sticky=W)\n",
    " \n",
    "# Output the result\n",
    "Label(master, text=\"\", textvariable=result ,bg = \"white\", font=(\"Arial\", 17)).grid(row=17,column=1, sticky=W)\n",
    "\n",
    "# store variables\n",
    "gender = Entry(master,width = 30)\n",
    "gender.grid(row=6, column=1)\n",
    "age = Entry(master,width = 30)\n",
    "age.grid(row=7, column=1)\n",
    "hypertension = Entry(master,width = 30)\n",
    "hypertension.grid(row=8, column=1)\n",
    "heart_disease = Entry(master,width = 30)\n",
    "heart_disease.grid(row=9, column=1)\n",
    "ever_married = Entry(master,width = 30)\n",
    "ever_married.grid(row=10, column=1)\n",
    "work_type = Entry(master,width = 30)\n",
    "work_type.grid(row=11, column=1)\n",
    "Residence_type = Entry(master,width = 30)\n",
    "Residence_type.grid(row=12, column=1)\n",
    "avg_glucose_level = Entry(master,width = 30)\n",
    "avg_glucose_level.grid(row=13, column=1)\n",
    "bmi = Entry(master,width = 30)\n",
    "bmi.grid(row=14, column=1)\n",
    "smoking_status = Entry(master,width = 30)\n",
    "smoking_status.grid(row=15, column=1)\n",
    "\n",
    " \n",
    "# creating a button using the widget \n",
    "b = Button(master, text=\"Predict\", command=predict_stroke, bg = \"white\", font=(\"Arial\", 12))\n",
    "b.grid(row=16, column=1,columnspan=1, rowspan=1,padx=5, pady=5,)\n",
    " \n",
    "mainloop()"
   ]
  },
  {
   "cell_type": "code",
   "execution_count": null,
   "id": "7eb31c9d-eb89-477d-b211-c7d738bbb2ec",
   "metadata": {},
   "outputs": [],
   "source": []
  },
  {
   "cell_type": "code",
   "execution_count": null,
   "id": "107edb81-7a57-4482-bb2f-9ced8ea98245",
   "metadata": {},
   "outputs": [],
   "source": []
  },
  {
   "cell_type": "markdown",
   "id": "cc52fa80-63bd-435e-a533-069b2a7805f9",
   "metadata": {},
   "source": [
    "# Constructing Decision Tree Classification Models"
   ]
  },
  {
   "cell_type": "code",
   "execution_count": 11,
   "id": "eafa8964-f7a0-40a0-9a75-c70888e0cda7",
   "metadata": {},
   "outputs": [],
   "source": [
    "import numpy as np\n",
    "from collections import Counter\n",
    "\n",
    "# class implementing a tree node.\n",
    "class Node:\n",
    "    # contructor to hold data about the feature, threshold, data going left and right, \n",
    "    # information gain, and the leaf node value.\n",
    "    def __init__(self, feature=None, threshold=None, data_left=None, data_right=None, gain=None, value=None):\n",
    "        self.feature = feature\n",
    "        self.threshold = threshold\n",
    "        self.data_left = data_left\n",
    "        self.data_right = data_right\n",
    "        self.gain = gain\n",
    "        self.value = value"
   ]
  },
  {
   "cell_type": "code",
   "execution_count": 12,
   "id": "ce0e9311-f1f3-413d-95dd-1da040f5b08b",
   "metadata": {},
   "outputs": [],
   "source": [
    "# Decision Tree Class which implements a decision tree classifier algorithm.\n",
    "# In this case, it is ID3 algorithm where entropy and information gain is used to split the branches.\n",
    "class DecisionTree:\n",
    "    \n",
    "    # a contructor to hold values for min_samples_split and max_depth of the tree.\n",
    "    def __init__(self, min_samples_split=2, max_depth=5):\n",
    "        self.min_samples_split = min_samples_split  # specify a minimum number of samples required to split a node\n",
    "        self.max_depth = max_depth                  # specifies a maximum depth of a tree\n",
    "        self.root = None\n",
    "        \n",
    "    @staticmethod\n",
    "    \n",
    "    # a function to calculate entropy from a list of integer values\n",
    "    def _entropy(s): # @param s: input vector\n",
    "\n",
    "        # convert to integers to avoid runtime errors\n",
    "        counts = np.bincount(np.array(s, dtype=np.int64))\n",
    "        \n",
    "        # probabilities of each class label\n",
    "        percentages = counts / len(s)\n",
    "\n",
    "        # caclulate entropy\n",
    "        entropy = 0\n",
    "        for pct in percentages:\n",
    "            if pct > 0:\n",
    "                entropy += pct * np.log2(pct)\n",
    "        \n",
    "        # return: float, entropy value\n",
    "        return -entropy   \n",
    "    \n",
    "    # a function to calculate information gain \n",
    "    def _information_gain(self, parent, left_child, right_child):  \n",
    "                               # @param parent: list, the parent node\n",
    "                               # @param left_child: list, left child of a parent\n",
    "                               # @param right_child: list, right child of a parent\n",
    "                                \n",
    "        num_left = len(left_child) / len(parent)\n",
    "        num_right = len(right_child) / len(parent)\n",
    "        \n",
    "        # calculate information gain using entropy of parent and children nodes\n",
    "        # return: float, information gain\n",
    "        return self._entropy(parent) - (num_left * self._entropy(left_child) + num_right * self._entropy(right_child))\n",
    "    \n",
    "    # best-split function to calculate the best splitting parameters for input features X and a target variable y\n",
    "    def _best_split(self, X, y):    # @param X: np.array, features\n",
    "                                    # @param y: np.array or list, target\n",
    "\n",
    "        # initializations\n",
    "        best_split = {}\n",
    "        best_info_gain = -1\n",
    "        n_rows, n_cols = X.shape\n",
    "        \n",
    "        # for every dataset feature\n",
    "        for f_idx in range(n_cols):\n",
    "            X_curr = X[:, f_idx]\n",
    "            # for every unique value of that feature\n",
    "            for threshold in np.unique(X_curr):\n",
    "                # construct a dataset and split it to the left and right parts,\n",
    "                # left part includes records lower or equal to the threshold,\n",
    "                # right part includes records higher than the threshold,\n",
    "                df = np.concatenate((X, y.reshape(1, -1).T), axis=1)\n",
    "                df_left = np.array([row for row in df if row[f_idx] <= threshold])\n",
    "                df_right = np.array([row for row in df if row[f_idx] > threshold])\n",
    "\n",
    "                # do the calculation only if there's data in both subsets\n",
    "                if len(df_left) > 0 and len(df_right) > 0:\n",
    "                    # obtain the value of the target variable for subsets\n",
    "                    y = df[:, -1]\n",
    "                    y_left = df_left[:, -1]\n",
    "                    y_right = df_right[:, -1]\n",
    "\n",
    "                    # caclulate the information gain and save the split parameters -\n",
    "                    # if the current split if better then the previous best\n",
    "                    gain = self._information_gain(y, y_left, y_right)\n",
    "                    if gain > best_info_gain:\n",
    "                        best_split = {    # save the split info.\n",
    "                            'feature_index': f_idx,\n",
    "                            'threshold': threshold,\n",
    "                            'df_left': df_left,\n",
    "                            'df_right': df_right,\n",
    "                            'gain': gain\n",
    "                        }\n",
    "                        best_info_gain = gain\n",
    "        # return: dict, best-split info\n",
    "        return best_split\n",
    "    \n",
    "    # a recursive function to build a decision tree from the input data\n",
    "    def _build(self, X, y, depth=0):\n",
    "            # @param X: np.array, features\n",
    "            # @param y: np.array or list, target\n",
    "            # @param depth: current depth of a tree, used as a stopping criteria\n",
    "\n",
    "        # get dimension of X\n",
    "        n_rows, n_cols = X.shape\n",
    "        \n",
    "        # check to see if a node should be leaf node\n",
    "        if n_rows >= self.min_samples_split and depth <= self.max_depth:\n",
    "            # Get the best split\n",
    "            best = self._best_split(X, y)\n",
    "            # If the split isn't pure\n",
    "            if best['gain'] > 0:\n",
    "                # Build a tree on the left\n",
    "                left = self._build(\n",
    "                    X=best['df_left'][:, :-1], \n",
    "                    y=best['df_left'][:, -1], \n",
    "                    depth=depth + 1\n",
    "                )\n",
    "                right = self._build(\n",
    "                    X=best['df_right'][:, :-1], \n",
    "                    y=best['df_right'][:, -1], \n",
    "                    depth=depth + 1\n",
    "                )\n",
    "                return Node(\n",
    "                    feature=best['feature_index'], \n",
    "                    threshold=best['threshold'], \n",
    "                    data_left=left, \n",
    "                    data_right=right, \n",
    "                    gain=best['gain']\n",
    "                )\n",
    "        # for leaf node - value is the most common target value \n",
    "        # return: Node\n",
    "        return Node(\n",
    "            value=Counter(y).most_common(1)[0][0]\n",
    "        )\n",
    "    \n",
    "    # a function to train a decision tree classifier model\n",
    "    def fit(self, X, y): # @param X: np.array, features\n",
    "                         # @param y: np.array or list, target\n",
    "\n",
    "        # call a recursive function to build the tree\n",
    "        self.root = self._build(X, y)\n",
    "    \n",
    "    # a recursive function to predict a single instance (tree traversal)\n",
    "    def _predict(self, x, tree):  # @param x: single observation\n",
    "                                  # @param tree: built tree\n",
    "\n",
    "        # leaf node\n",
    "        if tree.value != None:\n",
    "            return tree.value\n",
    "        feature_value = x[tree.feature]\n",
    "        \n",
    "        # go to the left\n",
    "        if feature_value <= tree.threshold:\n",
    "            # return: float, predicted class\n",
    "            return self._predict(x=x, tree=tree.data_left)\n",
    "        \n",
    "        # go to the right\n",
    "        if feature_value > tree.threshold:\n",
    "            # return: float, predicted class\n",
    "            return self._predict(x=x, tree=tree.data_right)\n",
    "    # predict-function to classify new instances.    \n",
    "    def predict(self, X):   # @param X: np.array, features\n",
    "\n",
    "        # call the _predict() function for every observation\n",
    "        # return: np.array, predicted classes\n",
    "        return [self._predict(x, self.root) for x in X]"
   ]
  },
  {
   "cell_type": "markdown",
   "id": "b1e9c67c-db11-4aae-bac9-64753edd1eab",
   "metadata": {},
   "source": [
    "# Constructing Random Forest Classification Models"
   ]
  },
  {
   "cell_type": "code",
   "execution_count": 13,
   "id": "fe4c7368-8f7a-4a9a-8df6-7d33f5453eac",
   "metadata": {},
   "outputs": [],
   "source": [
    "# Random Forest Class\n",
    "class RandomForest:\n",
    "    \n",
    "    # constructor that holds values for the number of trees in the forest, \n",
    "    # minimum samples split, and maximum depth\n",
    "    def __init__(self, num_trees=25, min_samples_split=2, max_depth=5):\n",
    "        self.num_trees = num_trees\n",
    "        self.min_samples_split = min_samples_split\n",
    "        self.max_depth = max_depth\n",
    "        # store individually trained decision trees as well\n",
    "        self.decision_trees = []\n",
    "        \n",
    "    @staticmethod\n",
    "    # sample function to perform boostrap sampling for sampling random data in random forest\n",
    "    def _sample(X, y):  # @param X: np.array, features\n",
    "                        # @param y: np.array, target       \n",
    "        # get dimension of X\n",
    "        n_rows, n_cols = X.shape\n",
    "        \n",
    "        # sample with replacement\n",
    "        samples = np.random.choice(a=n_rows, size=n_rows, replace=True)\n",
    "        \n",
    "        # return: tuple (sample of features, sample of target)\n",
    "        return X[samples], y[samples]\n",
    "    \n",
    "    # fit function to train RF classifier\n",
    "    def fit(self, X, y):    # @param X: np.array, features\n",
    "                            # @param y: np.array, target\n",
    "        # start building new trees from a fresh-start\n",
    "        if len(self.decision_trees) > 0:\n",
    "            self.decision_trees = []\n",
    "            \n",
    "        # build each tree of the forest\n",
    "        num_built = 0\n",
    "        while num_built < self.num_trees:\n",
    "            try:\n",
    "                clf = DecisionTree(\n",
    "                    min_samples_split=self.min_samples_split,\n",
    "                    max_depth=self.max_depth\n",
    "                )\n",
    "                # obtain random data sample\n",
    "                _X, _y = self._sample(X, y)\n",
    "                # train the model\n",
    "                clf.fit(_X, _y)\n",
    "                # save the classifier\n",
    "                self.decision_trees.append(clf)\n",
    "                num_built += 1\n",
    "            except Exception as e:\n",
    "                continue\n",
    "    \n",
    "    # a predict function to predict class labels for new data instances\n",
    "    def predict(self, X):  # @param X: np.array, new instances to predict\n",
    "\n",
    "        # make predictions with every tree in the forest\n",
    "        y = []\n",
    "        for tree in self.decision_trees:\n",
    "            y.append(tree.predict(X))\n",
    "        \n",
    "        # reshape to find the most common value\n",
    "        y = np.swapaxes(a=y, axis1=0, axis2=1)\n",
    "        \n",
    "        # majority voting for the final prediction\n",
    "        predictions = []\n",
    "        for preds in y:\n",
    "            counter = Counter(preds)\n",
    "            predictions.append(counter.most_common(1)[0][0])\n",
    "        # return: array of predicted classes\n",
    "        return predictions"
   ]
  },
  {
   "cell_type": "markdown",
   "id": "9d3953cd-40de-4476-968b-0188dc240fb3",
   "metadata": {},
   "source": [
    "# Stroke Dataset"
   ]
  },
  {
   "cell_type": "code",
   "execution_count": 14,
   "id": "6ec1f7a2-6781-4810-861b-5598fe263422",
   "metadata": {},
   "outputs": [],
   "source": [
    "# Import stroke data\n",
    "import pandas as pd\n",
    "stroke_df = pd.read_csv('healthcare-dataset-stroke-data.csv')"
   ]
  },
  {
   "cell_type": "code",
   "execution_count": 15,
   "id": "5890dff0-c978-4d68-a26d-e038186f115b",
   "metadata": {},
   "outputs": [
    {
     "data": {
      "text/html": [
       "<div>\n",
       "<style scoped>\n",
       "    .dataframe tbody tr th:only-of-type {\n",
       "        vertical-align: middle;\n",
       "    }\n",
       "\n",
       "    .dataframe tbody tr th {\n",
       "        vertical-align: top;\n",
       "    }\n",
       "\n",
       "    .dataframe thead th {\n",
       "        text-align: right;\n",
       "    }\n",
       "</style>\n",
       "<table border=\"1\" class=\"dataframe\">\n",
       "  <thead>\n",
       "    <tr style=\"text-align: right;\">\n",
       "      <th></th>\n",
       "      <th>id</th>\n",
       "      <th>gender</th>\n",
       "      <th>age</th>\n",
       "      <th>hypertension</th>\n",
       "      <th>heart_disease</th>\n",
       "      <th>ever_married</th>\n",
       "      <th>work_type</th>\n",
       "      <th>Residence_type</th>\n",
       "      <th>avg_glucose_level</th>\n",
       "      <th>bmi</th>\n",
       "      <th>smoking_status</th>\n",
       "      <th>stroke</th>\n",
       "    </tr>\n",
       "  </thead>\n",
       "  <tbody>\n",
       "    <tr>\n",
       "      <th>0</th>\n",
       "      <td>9046</td>\n",
       "      <td>Male</td>\n",
       "      <td>67.0</td>\n",
       "      <td>0</td>\n",
       "      <td>1</td>\n",
       "      <td>Yes</td>\n",
       "      <td>Private</td>\n",
       "      <td>Urban</td>\n",
       "      <td>228.69</td>\n",
       "      <td>36.6</td>\n",
       "      <td>formerly smoked</td>\n",
       "      <td>1</td>\n",
       "    </tr>\n",
       "    <tr>\n",
       "      <th>1</th>\n",
       "      <td>51676</td>\n",
       "      <td>Female</td>\n",
       "      <td>61.0</td>\n",
       "      <td>0</td>\n",
       "      <td>0</td>\n",
       "      <td>Yes</td>\n",
       "      <td>Self-employed</td>\n",
       "      <td>Rural</td>\n",
       "      <td>202.21</td>\n",
       "      <td>NaN</td>\n",
       "      <td>never smoked</td>\n",
       "      <td>1</td>\n",
       "    </tr>\n",
       "    <tr>\n",
       "      <th>2</th>\n",
       "      <td>31112</td>\n",
       "      <td>Male</td>\n",
       "      <td>80.0</td>\n",
       "      <td>0</td>\n",
       "      <td>1</td>\n",
       "      <td>Yes</td>\n",
       "      <td>Private</td>\n",
       "      <td>Rural</td>\n",
       "      <td>105.92</td>\n",
       "      <td>32.5</td>\n",
       "      <td>never smoked</td>\n",
       "      <td>1</td>\n",
       "    </tr>\n",
       "    <tr>\n",
       "      <th>3</th>\n",
       "      <td>60182</td>\n",
       "      <td>Female</td>\n",
       "      <td>49.0</td>\n",
       "      <td>0</td>\n",
       "      <td>0</td>\n",
       "      <td>Yes</td>\n",
       "      <td>Private</td>\n",
       "      <td>Urban</td>\n",
       "      <td>171.23</td>\n",
       "      <td>34.4</td>\n",
       "      <td>smokes</td>\n",
       "      <td>1</td>\n",
       "    </tr>\n",
       "    <tr>\n",
       "      <th>4</th>\n",
       "      <td>1665</td>\n",
       "      <td>Female</td>\n",
       "      <td>79.0</td>\n",
       "      <td>1</td>\n",
       "      <td>0</td>\n",
       "      <td>Yes</td>\n",
       "      <td>Self-employed</td>\n",
       "      <td>Rural</td>\n",
       "      <td>174.12</td>\n",
       "      <td>24.0</td>\n",
       "      <td>never smoked</td>\n",
       "      <td>1</td>\n",
       "    </tr>\n",
       "    <tr>\n",
       "      <th>...</th>\n",
       "      <td>...</td>\n",
       "      <td>...</td>\n",
       "      <td>...</td>\n",
       "      <td>...</td>\n",
       "      <td>...</td>\n",
       "      <td>...</td>\n",
       "      <td>...</td>\n",
       "      <td>...</td>\n",
       "      <td>...</td>\n",
       "      <td>...</td>\n",
       "      <td>...</td>\n",
       "      <td>...</td>\n",
       "    </tr>\n",
       "    <tr>\n",
       "      <th>5105</th>\n",
       "      <td>18234</td>\n",
       "      <td>Female</td>\n",
       "      <td>80.0</td>\n",
       "      <td>1</td>\n",
       "      <td>0</td>\n",
       "      <td>Yes</td>\n",
       "      <td>Private</td>\n",
       "      <td>Urban</td>\n",
       "      <td>83.75</td>\n",
       "      <td>NaN</td>\n",
       "      <td>never smoked</td>\n",
       "      <td>0</td>\n",
       "    </tr>\n",
       "    <tr>\n",
       "      <th>5106</th>\n",
       "      <td>44873</td>\n",
       "      <td>Female</td>\n",
       "      <td>81.0</td>\n",
       "      <td>0</td>\n",
       "      <td>0</td>\n",
       "      <td>Yes</td>\n",
       "      <td>Self-employed</td>\n",
       "      <td>Urban</td>\n",
       "      <td>125.20</td>\n",
       "      <td>40.0</td>\n",
       "      <td>never smoked</td>\n",
       "      <td>0</td>\n",
       "    </tr>\n",
       "    <tr>\n",
       "      <th>5107</th>\n",
       "      <td>19723</td>\n",
       "      <td>Female</td>\n",
       "      <td>35.0</td>\n",
       "      <td>0</td>\n",
       "      <td>0</td>\n",
       "      <td>Yes</td>\n",
       "      <td>Self-employed</td>\n",
       "      <td>Rural</td>\n",
       "      <td>82.99</td>\n",
       "      <td>30.6</td>\n",
       "      <td>never smoked</td>\n",
       "      <td>0</td>\n",
       "    </tr>\n",
       "    <tr>\n",
       "      <th>5108</th>\n",
       "      <td>37544</td>\n",
       "      <td>Male</td>\n",
       "      <td>51.0</td>\n",
       "      <td>0</td>\n",
       "      <td>0</td>\n",
       "      <td>Yes</td>\n",
       "      <td>Private</td>\n",
       "      <td>Rural</td>\n",
       "      <td>166.29</td>\n",
       "      <td>25.6</td>\n",
       "      <td>formerly smoked</td>\n",
       "      <td>0</td>\n",
       "    </tr>\n",
       "    <tr>\n",
       "      <th>5109</th>\n",
       "      <td>44679</td>\n",
       "      <td>Female</td>\n",
       "      <td>44.0</td>\n",
       "      <td>0</td>\n",
       "      <td>0</td>\n",
       "      <td>Yes</td>\n",
       "      <td>Govt_job</td>\n",
       "      <td>Urban</td>\n",
       "      <td>85.28</td>\n",
       "      <td>26.2</td>\n",
       "      <td>Unknown</td>\n",
       "      <td>0</td>\n",
       "    </tr>\n",
       "  </tbody>\n",
       "</table>\n",
       "<p>5110 rows × 12 columns</p>\n",
       "</div>"
      ],
      "text/plain": [
       "         id  gender   age  hypertension  heart_disease ever_married  \\\n",
       "0      9046    Male  67.0             0              1          Yes   \n",
       "1     51676  Female  61.0             0              0          Yes   \n",
       "2     31112    Male  80.0             0              1          Yes   \n",
       "3     60182  Female  49.0             0              0          Yes   \n",
       "4      1665  Female  79.0             1              0          Yes   \n",
       "...     ...     ...   ...           ...            ...          ...   \n",
       "5105  18234  Female  80.0             1              0          Yes   \n",
       "5106  44873  Female  81.0             0              0          Yes   \n",
       "5107  19723  Female  35.0             0              0          Yes   \n",
       "5108  37544    Male  51.0             0              0          Yes   \n",
       "5109  44679  Female  44.0             0              0          Yes   \n",
       "\n",
       "          work_type Residence_type  avg_glucose_level   bmi   smoking_status  \\\n",
       "0           Private          Urban             228.69  36.6  formerly smoked   \n",
       "1     Self-employed          Rural             202.21   NaN     never smoked   \n",
       "2           Private          Rural             105.92  32.5     never smoked   \n",
       "3           Private          Urban             171.23  34.4           smokes   \n",
       "4     Self-employed          Rural             174.12  24.0     never smoked   \n",
       "...             ...            ...                ...   ...              ...   \n",
       "5105        Private          Urban              83.75   NaN     never smoked   \n",
       "5106  Self-employed          Urban             125.20  40.0     never smoked   \n",
       "5107  Self-employed          Rural              82.99  30.6     never smoked   \n",
       "5108        Private          Rural             166.29  25.6  formerly smoked   \n",
       "5109       Govt_job          Urban              85.28  26.2          Unknown   \n",
       "\n",
       "      stroke  \n",
       "0          1  \n",
       "1          1  \n",
       "2          1  \n",
       "3          1  \n",
       "4          1  \n",
       "...      ...  \n",
       "5105       0  \n",
       "5106       0  \n",
       "5107       0  \n",
       "5108       0  \n",
       "5109       0  \n",
       "\n",
       "[5110 rows x 12 columns]"
      ]
     },
     "execution_count": 15,
     "metadata": {},
     "output_type": "execute_result"
    }
   ],
   "source": [
    "stroke_df"
   ]
  },
  {
   "cell_type": "markdown",
   "id": "08869ecb-3819-4416-a506-03cfaa5f8602",
   "metadata": {},
   "source": [
    "# Data Preprocessing"
   ]
  },
  {
   "cell_type": "code",
   "execution_count": 16,
   "id": "91c40282-6463-4fa4-80a2-52c063331e19",
   "metadata": {},
   "outputs": [],
   "source": [
    "# remove 'id' since it is not a feature and could influence the model\n",
    "del stroke_df[\"id\"]"
   ]
  },
  {
   "cell_type": "code",
   "execution_count": 17,
   "id": "6d30f381-0fd7-489d-b6b4-2305fab776fb",
   "metadata": {},
   "outputs": [
    {
     "data": {
      "text/plain": [
       "gender                object\n",
       "age                  float64\n",
       "hypertension           int64\n",
       "heart_disease          int64\n",
       "ever_married          object\n",
       "work_type             object\n",
       "Residence_type        object\n",
       "avg_glucose_level    float64\n",
       "bmi                  float64\n",
       "smoking_status        object\n",
       "stroke                 int64\n",
       "dtype: object"
      ]
     },
     "execution_count": 17,
     "metadata": {},
     "output_type": "execute_result"
    }
   ],
   "source": [
    "# check data type of each attribute\n",
    "stroke_df.dtypes"
   ]
  },
  {
   "cell_type": "code",
   "execution_count": 18,
   "id": "d596b34d-7aeb-4482-b659-90f974975282",
   "metadata": {},
   "outputs": [],
   "source": [
    "# factorize all string (object) type attribute, to have factor attributes for classification\n",
    "stroke_df[\"gender\"] = pd.factorize(stroke_df[\"gender\"])[0]\n",
    "stroke_df[\"ever_married\"] = pd.factorize(stroke_df[\"ever_married\"])[0]\n",
    "stroke_df[\"work_type\"] = pd.factorize(stroke_df[\"work_type\"])[0]\n",
    "stroke_df[\"Residence_type\"] = pd.factorize(stroke_df[\"Residence_type\"])[0]\n",
    "stroke_df[\"smoking_status\"] = pd.factorize(stroke_df[\"smoking_status\"])[0]"
   ]
  },
  {
   "cell_type": "code",
   "execution_count": 19,
   "id": "35def7d5-4366-4180-a44c-2de651378355",
   "metadata": {},
   "outputs": [
    {
     "data": {
      "text/plain": [
       "gender                 int64\n",
       "age                  float64\n",
       "hypertension           int64\n",
       "heart_disease          int64\n",
       "ever_married           int64\n",
       "work_type              int64\n",
       "Residence_type         int64\n",
       "avg_glucose_level    float64\n",
       "bmi                  float64\n",
       "smoking_status         int64\n",
       "stroke                 int64\n",
       "dtype: object"
      ]
     },
     "execution_count": 19,
     "metadata": {},
     "output_type": "execute_result"
    }
   ],
   "source": [
    "# check data type of each attribute\n",
    "stroke_df.dtypes"
   ]
  },
  {
   "cell_type": "code",
   "execution_count": 20,
   "id": "5e1964ee-a0b8-4b85-8865-f5a8ff8284cf",
   "metadata": {},
   "outputs": [
    {
     "data": {
      "text/plain": [
       "gender                 0\n",
       "age                    0\n",
       "hypertension           0\n",
       "heart_disease          0\n",
       "ever_married           0\n",
       "work_type              0\n",
       "Residence_type         0\n",
       "avg_glucose_level      0\n",
       "bmi                  201\n",
       "smoking_status         0\n",
       "stroke                 0\n",
       "dtype: int64"
      ]
     },
     "execution_count": 20,
     "metadata": {},
     "output_type": "execute_result"
    }
   ],
   "source": [
    "# check for missing values\n",
    "stroke_df.isnull().sum()"
   ]
  },
  {
   "cell_type": "code",
   "execution_count": 21,
   "id": "2ae70583-af30-4e4b-b076-0a6fbc9af23d",
   "metadata": {},
   "outputs": [],
   "source": [
    "# missing values imputation\n",
    "# imputing with MICE\n",
    "from sklearn.experimental import enable_iterative_imputer\n",
    "from sklearn.impute import IterativeImputer\n",
    "from sklearn import linear_model\n",
    "\n",
    "# Define MICE Imputer and fill missing values\n",
    "mice_imputer = IterativeImputer(estimator=linear_model.BayesianRidge(), n_nearest_features=None, imputation_order='ascending')\n",
    "\n",
    "# impute missing values\n",
    "stroke_df_imputed = pd.DataFrame(mice_imputer.fit_transform(stroke_df), columns=stroke_df.columns)\n",
    "\n",
    "# copy just 'bmi' column back into the original df\n",
    "stroke_df[\"bmi\"] = stroke_df_imputed[\"bmi\"] "
   ]
  },
  {
   "cell_type": "code",
   "execution_count": 22,
   "id": "d441d4e2-d108-4227-ac45-a93f69dfdfb5",
   "metadata": {},
   "outputs": [
    {
     "data": {
      "text/plain": [
       "gender               0\n",
       "age                  0\n",
       "hypertension         0\n",
       "heart_disease        0\n",
       "ever_married         0\n",
       "work_type            0\n",
       "Residence_type       0\n",
       "avg_glucose_level    0\n",
       "bmi                  0\n",
       "smoking_status       0\n",
       "stroke               0\n",
       "dtype: int64"
      ]
     },
     "execution_count": 22,
     "metadata": {},
     "output_type": "execute_result"
    }
   ],
   "source": [
    "# double check for missing values\n",
    "stroke_df.isnull().sum()"
   ]
  },
  {
   "cell_type": "code",
   "execution_count": 23,
   "id": "65448979-33a3-41a7-8d5a-40644ff8a7c6",
   "metadata": {},
   "outputs": [],
   "source": [
    "# split data\n",
    "# first, put it in X and y (features and target)\n",
    "X = stroke_df.drop(['stroke'], axis = 1).to_numpy()\n",
    "y = stroke_df['stroke'].to_numpy()\n",
    "\n",
    "# split the dataset into training and testing portions\n",
    "from sklearn.model_selection import train_test_split\n",
    "\n",
    "X_train, X_test, y_train, y_test = train_test_split(X, y, test_size=0.98, random_state=7)"
   ]
  },
  {
   "cell_type": "markdown",
   "id": "ef8da45f-bdc4-4dab-bece-178db4c04e47",
   "metadata": {},
   "source": [
    "# Decision Tree ID3 Classification"
   ]
  },
  {
   "cell_type": "code",
   "execution_count": 24,
   "id": "0634c53d-5431-4632-af95-46b76b38d9ba",
   "metadata": {},
   "outputs": [],
   "source": [
    "# Decision Tree Model\n",
    "DT_model = DecisionTree()\n",
    "\n",
    "DT_model.fit(X_train, y_train)\n",
    "\n",
    "DT_preds = DT_model.predict(X_test)"
   ]
  },
  {
   "cell_type": "markdown",
   "id": "96f26d8d-84a3-4eac-8db3-26292c71812f",
   "metadata": {
    "tags": []
   },
   "source": [
    "# ID3 Model Evaluation "
   ]
  },
  {
   "cell_type": "code",
   "execution_count": 31,
   "id": "2bf2112b-8ead-408a-bbf8-701894770b92",
   "metadata": {},
   "outputs": [
    {
     "data": {
      "image/png": "[encoded data removed]",
      "text/plain": [
       "<Figure size 432x288 with 2 Axes>"
      ]
     },
     "metadata": {
      "needs_background": "light"
     },
     "output_type": "display_data"
    }
   ],
   "source": [
    "# confusion matrix\n",
    "confusion_matrix = metrics.confusion_matrix(y_test, DT_preds)\n",
    "cm_display = metrics.ConfusionMatrixDisplay(confusion_matrix = confusion_matrix, display_labels = [False, True])\n",
    "cm_display.plot()\n",
    "plt.show()"
   ]
  },
  {
   "cell_type": "code",
   "execution_count": 25,
   "id": "18771447-ebc6-4f0a-b195-26e28044a2dc",
   "metadata": {
    "tags": []
   },
   "outputs": [
    {
     "data": {
      "text/plain": [
       "0.8925718849840255"
      ]
     },
     "execution_count": 25,
     "metadata": {},
     "output_type": "execute_result"
    }
   ],
   "source": [
    "# accuracy score\n",
    "from sklearn.metrics import accuracy_score\n",
    "accuracy_score(y_test, DT_preds)"
   ]
  },
  {
   "cell_type": "code",
   "execution_count": 26,
   "id": "11d73a0b-fa84-430e-be87-a9bb11c8dcd5",
   "metadata": {},
   "outputs": [
    {
     "data": {
      "text/plain": [
       "0.5760760347414351"
      ]
     },
     "execution_count": 26,
     "metadata": {},
     "output_type": "execute_result"
    }
   ],
   "source": [
    "# balanced_accuracy_score\n",
    "from sklearn.metrics import balanced_accuracy_score\n",
    "balanced_accuracy_score(y_test, DT_preds)"
   ]
  },
  {
   "cell_type": "code",
   "execution_count": 27,
   "id": "446b8736-ec8a-4fe2-90a2-40c1262129a0",
   "metadata": {},
   "outputs": [
    {
     "data": {
      "text/plain": [
       "0.13613861386138615"
      ]
     },
     "execution_count": 27,
     "metadata": {},
     "output_type": "execute_result"
    }
   ],
   "source": [
    "# precision score\n",
    "from sklearn.metrics import precision_score\n",
    "precision_score(y_test, DT_preds)"
   ]
  },
  {
   "cell_type": "code",
   "execution_count": 28,
   "id": "49f62750-443a-48ca-8673-f91c90c5f09c",
   "metadata": {},
   "outputs": [
    {
     "data": {
      "text/plain": [
       "0.1697530864197531"
      ]
     },
     "execution_count": 28,
     "metadata": {},
     "output_type": "execute_result"
    }
   ],
   "source": [
    "# f-1 score\n",
    "from sklearn.metrics import f1_score\n",
    "f1_score(y_test, DT_preds)"
   ]
  },
  {
   "cell_type": "code",
   "execution_count": 29,
   "id": "3b660488-6f6e-4a8e-99a8-b2b4c588532d",
   "metadata": {},
   "outputs": [
    {
     "data": {
      "text/plain": [
       "0.22540983606557377"
      ]
     },
     "execution_count": 29,
     "metadata": {},
     "output_type": "execute_result"
    }
   ],
   "source": [
    "# recall score\n",
    "from sklearn.metrics import recall_score\n",
    "recall_score(y_test, DT_preds)"
   ]
  },
  {
   "cell_type": "markdown",
   "id": "fc731f0f-70f5-4b47-94b0-af073ec72ba4",
   "metadata": {},
   "source": [
    "# Random Forest Classification"
   ]
  },
  {
   "cell_type": "code",
   "execution_count": 32,
   "id": "44b7bcc2-d608-406b-85d4-068f0b74b604",
   "metadata": {},
   "outputs": [],
   "source": [
    "# trains the model with default hyperparameters and makes predictions on the test set\n",
    "RF_model = RandomForest()\n",
    "RF_model.fit(X_train, y_train)"
   ]
  },
  {
   "cell_type": "code",
   "execution_count": 33,
   "id": "c9f242f0-0736-45ef-94a4-f055ece733f1",
   "metadata": {},
   "outputs": [],
   "source": [
    "# predict the test data\n",
    "RF_preds = RF_model.predict(X_test)"
   ]
  },
  {
   "cell_type": "markdown",
   "id": "a8cbe0fe-fc1c-4e97-9bab-4c410d16440c",
   "metadata": {
    "tags": []
   },
   "source": [
    "# Random Forest Model Evaluation "
   ]
  },
  {
   "cell_type": "code",
   "execution_count": 34,
   "id": "20f63ee7-c44d-4687-a9ec-7925372e009d",
   "metadata": {},
   "outputs": [
    {
     "data": {
      "image/png": "[encoded data removed]",
      "text/plain": [
       "<Figure size 432x288 with 2 Axes>"
      ]
     },
     "metadata": {
      "needs_background": "light"
     },
     "output_type": "display_data"
    }
   ],
   "source": [
    "# confusion matrix\n",
    "confusion_matrix = metrics.confusion_matrix(y_test, RF_preds)\n",
    "cm_display = metrics.ConfusionMatrixDisplay(confusion_matrix = confusion_matrix, display_labels = [False, True])\n",
    "cm_display.plot()\n",
    "plt.show()"
   ]
  },
  {
   "cell_type": "code",
   "execution_count": 35,
   "id": "baaf0894-241e-48d3-8824-471d28d031c3",
   "metadata": {},
   "outputs": [
    {
     "data": {
      "text/plain": [
       "0.9273162939297125"
      ]
     },
     "execution_count": 35,
     "metadata": {},
     "output_type": "execute_result"
    }
   ],
   "source": [
    "# accuracy score\n",
    "from sklearn.metrics import accuracy_score\n",
    "accuracy_score(y_test, RF_preds)"
   ]
  },
  {
   "cell_type": "code",
   "execution_count": 36,
   "id": "fd997067-d3e7-45fe-a127-0614f0963ab9",
   "metadata": {},
   "outputs": [
    {
     "data": {
      "text/plain": [
       "0.5651746018637046"
      ]
     },
     "execution_count": 36,
     "metadata": {},
     "output_type": "execute_result"
    }
   ],
   "source": [
    "# balanced_accuracy_score\n",
    "from sklearn.metrics import balanced_accuracy_score\n",
    "balanced_accuracy_score(y_test, RF_preds)"
   ]
  },
  {
   "cell_type": "code",
   "execution_count": 37,
   "id": "bbe881e9-7e7e-4e22-8901-0015424e332d",
   "metadata": {},
   "outputs": [
    {
     "data": {
      "text/plain": [
       "0.2"
      ]
     },
     "execution_count": 37,
     "metadata": {},
     "output_type": "execute_result"
    }
   ],
   "source": [
    "# precision score\n",
    "from sklearn.metrics import precision_score\n",
    "precision_score(y_test, RF_preds)"
   ]
  },
  {
   "cell_type": "code",
   "execution_count": 38,
   "id": "aeadb0f8-a1a8-4b3a-a3d6-2b42dd310347",
   "metadata": {},
   "outputs": [
    {
     "data": {
      "text/plain": [
       "0.18018018018018017"
      ]
     },
     "execution_count": 38,
     "metadata": {},
     "output_type": "execute_result"
    }
   ],
   "source": [
    "# f-1 score\n",
    "from sklearn.metrics import f1_score\n",
    "f1_score(y_test, RF_preds)"
   ]
  },
  {
   "cell_type": "code",
   "execution_count": 39,
   "id": "8708a55d-5408-4544-8e0f-1dc7abcc8e1a",
   "metadata": {},
   "outputs": [
    {
     "data": {
      "text/plain": [
       "0.16393442622950818"
      ]
     },
     "execution_count": 39,
     "metadata": {},
     "output_type": "execute_result"
    }
   ],
   "source": [
    "# recall score\n",
    "from sklearn.metrics import recall_score\n",
    "recall_score(y_test, RF_preds)"
   ]
  },
  {
   "cell_type": "raw",
   "id": "294d51fc-ec8e-4a49-b5a4-fc463780f126",
   "metadata": {},
   "source": [
    "Run-Time Recorded for each data size\n",
    "with 1% data for training: 1 sec; acc score = 0.904131251235422\n",
    "with 5% data for training: 17 sec; acc score = 0.9476828012358394\n",
    "with 20%: 230 sec; acc score = 0.9493639921722113\n",
    "with 80%: 4970 sec; acc score = 0.9393346379647749"
   ]
  },
  {
   "cell_type": "markdown",
   "id": "e090d434-fa79-4bc5-8c78-435ed4550649",
   "metadata": {},
   "source": [
    "# GUI For Random Forest Classifier"
   ]
  },
  {
   "cell_type": "code",
   "execution_count": 40,
   "id": "40b5750b-6cf2-40ce-97c8-b4dbdff676e2",
   "metadata": {},
   "outputs": [],
   "source": [
    "# import modules\n",
    "from tkinter import *\n",
    " \n",
    "# user defined function\n",
    "def predict_stroke():\n",
    "    try:\n",
    "        \n",
    "        x1 = int(gender.get())\n",
    "        x2 = float(age.get())\n",
    "        x3 = int(hypertension.get())\n",
    "        x4 = int(heart_disease.get())\n",
    "        x5 = int(ever_married.get())\n",
    "        x6 = int(work_type.get())\n",
    "        x7 = int(Residence_type.get())\n",
    "        x8 = float(avg_glucose_level.get())\n",
    "        x9 = float(bmi.get())\n",
    "        x10 = int(smoking_status.get())\n",
    "        \n",
    "        \n",
    "        #new_X = np.array([gender.get(), age.get(), hypertension.get(), heart_disease.get(), ever_married.get(), \n",
    "        #                  work_type.get(), Residence_type.get(), avg_glucose_level.get(), bmi.get(), smoking_status.get()])\n",
    "        new_X = np.array([[x1, x2, x3, x4, x5, x6, x7, x8, x9, x10]])\n",
    "\n",
    "        new_pred = RF_model.predict(new_X)\n",
    "        \n",
    "        stroke_class = int(new_pred[0])\n",
    "        \n",
    "        #print(stroke_class)\n",
    "        #print(new_X)\n",
    "        if stroke_class == 1:\n",
    "            result.set(\"The patient IS at risk of having a stroke\")\n",
    "            \n",
    "        elif stroke_class == 0:\n",
    "            result.set(\"The patient is NOT at risk of having a stroke\")\n",
    "\n",
    "    except:\n",
    "        result.set(\"something went wrong\")\n",
    "\n",
    "        \n",
    "# object of tkinter\n",
    "# with background set to light grey\n",
    "master = Tk()\n",
    "master.configure(bg='white')\n",
    "master.title(\"Stroke Predictor Application\")\n",
    " \n",
    "# Variable Classes in tkinter\n",
    "result = StringVar();\n",
    " \n",
    "# App introduction\n",
    "Label(master, text=\"This application allows you to check a patient's risk of stroke based on the following parameters.\" , bg = \"white\", font=(\"Arial\", 12)).grid(row=1, sticky=W)\n",
    "Label(master, text=\"Please enter your information in the following format, and hit the predict button. \" , bg = \"white\", font=(\"Arial\", 12)).grid(row=2, sticky=W)\n",
    "Label(master, text=\"This prediction makes use of Random forest, which got 94.9% accuracy after evaluating 3 models.\" , bg = \"white\", font=(\"Arial\", 12)).grid(row=3, sticky=W)\n",
    "Label(master, text=\"\" , bg = \"white\", font=10).grid(row=4, sticky=W)\n",
    "Label(master, text=\"Input each one of the patient's information in the boxes below:\" , bg = \"white\", font=(\"Arial\", 12)).grid(row=5, sticky=W)\n",
    "    \n",
    "# Creating label for each information\n",
    "# name using widget Label\n",
    "Label(master, text=\"Enter gender (0: Male, 1: Female, 2: Others): \" , bg = \"white\", font=(\"Arial\", 12)).grid(row=6, sticky=W)\n",
    "Label(master, text=\"Enter age (year-old): \" , bg = \"white\", font=(\"Arial\", 12)).grid(row=7, sticky=W)\n",
    "Label(master, text=\"Enter hypertension (0: patient has no hypertension, 1: patient has hypertension): \" , bg = \"white\", font=(\"Arial\", 12)).grid(row=8, sticky=W)\n",
    "Label(master, text=\"Enter heart_disease (0: patient has no heart disease, 1: patient has heart disease): \" , bg = \"white\", font=(\"Arial\", 12)).grid(row=9, sticky=W)\n",
    "Label(master, text=\"Enter ever_married (0: Yes, 1: No): \" , bg = \"white\", font=(\"Arial\", 12)).grid(row=10, sticky=W)\n",
    "Label(master, text=\"Enter work_type (0: Private, 1: Self-employed, 2: Govt_jov, 3: Children, 4: Never_worked): \" , bg = \"white\", font=(\"Arial\", 12)).grid(row=11, sticky=W)\n",
    "Label(master, text=\"Enter Residence_type (0: Urban, 1: Rural): \" , bg = \"white\", font=(\"Arial\", 12)).grid(row=12, sticky=W)\n",
    "Label(master, text=\"Enter average glucose level in blood: \" , bg = \"white\", font=(\"Arial\", 12)).grid(row=13, sticky=W)\n",
    "Label(master, text=\"Enter body mass index, BMI: \" , bg = \"white\", font=(\"Arial\", 12)).grid(row=14, sticky=W)\n",
    "Label(master, text=\"Enter smoking_status (0: formerly smoked, 1: never smoked, 2: smokes, 3: Unknown): \" , bg = \"white\", font=(\"Arial\", 12)).grid(row=15, sticky=W)\n",
    "\n",
    "# label for the result\n",
    "Label(master, text=\" \", bg = \"white\", font=(\"Arial\", 12)).grid(row=16, sticky=W)\n",
    "Label(master, text=\"Result :\", bg = \"white\", font=(\"Arial\", 17)).grid(row=17, sticky=W)\n",
    " \n",
    "# Output the result\n",
    "Label(master, text=\"\", textvariable=result ,bg = \"white\", font=(\"Arial\", 17)).grid(row=17,column=1, sticky=W)\n",
    "\n",
    "# store variables\n",
    "gender = Entry(master,width = 30)\n",
    "gender.grid(row=6, column=1)\n",
    "age = Entry(master,width = 30)\n",
    "age.grid(row=7, column=1)\n",
    "hypertension = Entry(master,width = 30)\n",
    "hypertension.grid(row=8, column=1)\n",
    "heart_disease = Entry(master,width = 30)\n",
    "heart_disease.grid(row=9, column=1)\n",
    "ever_married = Entry(master,width = 30)\n",
    "ever_married.grid(row=10, column=1)\n",
    "work_type = Entry(master,width = 30)\n",
    "work_type.grid(row=11, column=1)\n",
    "Residence_type = Entry(master,width = 30)\n",
    "Residence_type.grid(row=12, column=1)\n",
    "avg_glucose_level = Entry(master,width = 30)\n",
    "avg_glucose_level.grid(row=13, column=1)\n",
    "bmi = Entry(master,width = 30)\n",
    "bmi.grid(row=14, column=1)\n",
    "smoking_status = Entry(master,width = 30)\n",
    "smoking_status.grid(row=15, column=1)\n",
    "\n",
    " \n",
    "# creating a button using the widget \n",
    "b = Button(master, text=\"Predict\", command=predict_stroke, bg = \"white\", font=(\"Arial\", 12))\n",
    "b.grid(row=16, column=1,columnspan=1, rowspan=1,padx=5, pady=5,)\n",
    " \n",
    "mainloop()"
   ]
  },
  {
   "cell_type": "code",
   "execution_count": null,
   "id": "3d8d861a-ac95-4f04-a8f7-f9050f6d561d",
   "metadata": {},
   "outputs": [],
   "source": []
  }
 ],
 "metadata": {
  "kernelspec": {
   "display_name": "Python 3 (ipykernel)",
   "language": "python",
   "name": "python3"
  },
  "language_info": {
   "codemirror_mode": {
    "name": "ipython",
    "version": 3
   },
   "file_extension": ".py",
   "mimetype": "text/x-python",
   "name": "python",
   "nbconvert_exporter": "python",
   "pygments_lexer": "ipython3",
   "version": "3.9.12"
  }
 },
 "nbformat": 4,
 "nbformat_minor": 5
}
